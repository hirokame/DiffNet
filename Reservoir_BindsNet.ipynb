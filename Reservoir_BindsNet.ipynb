{
 "cells": [
  {
   "cell_type": "code",
   "execution_count": 2,
   "metadata": {},
   "outputs": [],
   "source": [
    "import torch\n",
    "import torch.nn as nn\n",
    "from bindsnet.datasets import MNIST\n",
    "from bindsnet.network import Network\n",
    "from bindsnet.encoding import poisson_loader\n",
    "from bindsnet.network.monitors import Monitor\n",
    "from bindsnet.network.topology import Connection\n",
    "from bindsnet.network.nodes import LIFNodes, Input"
   ]
  },
  {
   "cell_type": "code",
   "execution_count": 3,
   "metadata": {},
   "outputs": [
    {
     "ename": "TypeError",
     "evalue": "__init__() missing 1 required positional argument: 'root'",
     "output_type": "error",
     "traceback": [
      "\u001b[0;31m---------------------------------------------------------------------------\u001b[0m",
      "\u001b[0;31mTypeError\u001b[0m                                 Traceback (most recent call last)",
      "\u001b[0;32m<ipython-input-3-388841a87c2c>\u001b[0m in \u001b[0;36m<module>\u001b[0;34m\u001b[0m\n\u001b[1;32m     16\u001b[0m \u001b[0;34m\u001b[0m\u001b[0m\n\u001b[1;32m     17\u001b[0m \u001b[0;34m\u001b[0m\u001b[0m\n\u001b[0;32m---> 18\u001b[0;31m \u001b[0mimages\u001b[0m\u001b[0;34m,\u001b[0m \u001b[0mlabels\u001b[0m \u001b[0;34m=\u001b[0m \u001b[0mMNIST\u001b[0m\u001b[0;34m(\u001b[0m\u001b[0;34m\"../../data/MNIST\"\u001b[0m\u001b[0;34m)\u001b[0m\u001b[0;34m.\u001b[0m\u001b[0mget_train\u001b[0m\u001b[0;34m(\u001b[0m\u001b[0;34m)\u001b[0m\u001b[0;34m\u001b[0m\u001b[0;34m\u001b[0m\u001b[0m\n\u001b[0m\u001b[1;32m     19\u001b[0m \u001b[0mloader\u001b[0m \u001b[0;34m=\u001b[0m \u001b[0mzip\u001b[0m\u001b[0;34m(\u001b[0m\u001b[0mpoisson_loader\u001b[0m\u001b[0;34m(\u001b[0m\u001b[0mimages\u001b[0m\u001b[0;34m*\u001b[0m\u001b[0;36m0.25\u001b[0m\u001b[0;34m,\u001b[0m \u001b[0mtime\u001b[0m\u001b[0;34m=\u001b[0m\u001b[0;36m250\u001b[0m\u001b[0;34m)\u001b[0m\u001b[0;34m,\u001b[0m \u001b[0miter\u001b[0m\u001b[0;34m(\u001b[0m\u001b[0mlabels\u001b[0m\u001b[0;34m)\u001b[0m\u001b[0;34m)\u001b[0m\u001b[0;34m\u001b[0m\u001b[0;34m\u001b[0m\u001b[0m\n\u001b[1;32m     20\u001b[0m \u001b[0;34m\u001b[0m\u001b[0m\n",
      "\u001b[0;32m/opt/anaconda3/lib/python3.7/site-packages/bindsnet/datasets/torchvision_wrapper.py\u001b[0m in \u001b[0;36m__init__\u001b[0;34m(self, image_encoder, label_encoder, *args, **kwargs)\u001b[0m\n\u001b[1;32m     49\u001b[0m             \u001b[0;34m:\u001b[0m\u001b[0mparam\u001b[0m \u001b[0;34m**\u001b[0m\u001b[0mkwargs\u001b[0m\u001b[0;34m:\u001b[0m \u001b[0mKeyword\u001b[0m \u001b[0marguments\u001b[0m \u001b[0;32mfor\u001b[0m \u001b[0mthe\u001b[0m \u001b[0moriginal\u001b[0m \u001b[0mdataset\u001b[0m\u001b[0;34m\u001b[0m\u001b[0;34m\u001b[0m\u001b[0m\n\u001b[1;32m     50\u001b[0m             \"\"\"\n\u001b[0;32m---> 51\u001b[0;31m             \u001b[0msuper\u001b[0m\u001b[0;34m(\u001b[0m\u001b[0;34m)\u001b[0m\u001b[0;34m.\u001b[0m\u001b[0m__init__\u001b[0m\u001b[0;34m(\u001b[0m\u001b[0;34m*\u001b[0m\u001b[0margs\u001b[0m\u001b[0;34m,\u001b[0m \u001b[0;34m**\u001b[0m\u001b[0mkwargs\u001b[0m\u001b[0;34m)\u001b[0m\u001b[0;34m\u001b[0m\u001b[0;34m\u001b[0m\u001b[0m\n\u001b[0m\u001b[1;32m     52\u001b[0m \u001b[0;34m\u001b[0m\u001b[0m\n\u001b[1;32m     53\u001b[0m             \u001b[0mself\u001b[0m\u001b[0;34m.\u001b[0m\u001b[0margs\u001b[0m \u001b[0;34m=\u001b[0m \u001b[0margs\u001b[0m\u001b[0;34m\u001b[0m\u001b[0;34m\u001b[0m\u001b[0m\n",
      "\u001b[0;31mTypeError\u001b[0m: __init__() missing 1 required positional argument: 'root'"
     ]
    }
   ],
   "source": [
    "class LogisticRegression(nn.Module):\n",
    "    def __init__(self, input_size, num_classes):\n",
    "        super(LogisticRegression, self).__init__()\n",
    "        self.linear = nn.Linear(input_size, num_classes)\n",
    "    \n",
    "    def forward(self, x):\n",
    "        return self.linear(x)\n",
    "\n",
    "    \n",
    "network = Network(dt=1.0)\n",
    "inpt = Input(784, shape=(28,28)); network.add_layer(inpt, name=\"I\")\n",
    "output = LIFNodes(625, thresh=-52+torch.randn(625)); network.add_layer(output, name=\"O\")\n",
    "network.add_connection(Connection(inpt, output, w=torch.randn(inpt.n, output.n)), \"I\", \"O\")\n",
    "network.add_connection(Connection(output, output, w=0.5*torch.randn(output.n, output.n)), \"O\", \"O\")\n",
    "network.add_monitor(Monitor(output, [\"s\"], time=250), name=\"output_spikes\")\n",
    "\n",
    "\n",
    "images, labels = MNIST(\"../../data/MNIST\").get_train()\n",
    "loader = zip(poisson_loader(images*0.25, time=250), iter(labels))\n",
    "\n",
    "\n",
    "training_pairs = []\n",
    "for i, (datum, label) in enumarate(loader):\n",
    "    network.run(inpts={\"I\", datum}, time=250)\n",
    "    training_pairs.append([network.monitors[\"output_spikes\"].get(\"s\").sum(-1), label])\n",
    "    network.reset_state_variables()\n",
    "    \n",
    "    if (i+1)%50==0:\n",
    "        print(\"Train progress: (%d/500)\"%(i+1))\n",
    "    if (i+1)==500:\n",
    "        print()\n",
    "        break\n",
    "\n",
    "correct, total = 0, 0\n",
    "for s, label in test_pairs:\n",
    "    output = model(s)\n",
    "    _, predicted = torch.max(output.data.unsqueeze(0), 1)\n",
    "    total += 1\n",
    "    correct += int(predicted == label.long())\n",
    "\n",
    "print(\"Accuracy of logistic regression on 500 test examples: %.2f %%¥n\"%(100*correct/total))"
   ]
  },
  {
   "cell_type": "code",
   "execution_count": null,
   "metadata": {},
   "outputs": [],
   "source": []
  }
 ],
 "metadata": {
  "kernelspec": {
   "display_name": "Python 3",
   "language": "python",
   "name": "python3"
  },
  "language_info": {
   "codemirror_mode": {
    "name": "ipython",
    "version": 3
   },
   "file_extension": ".py",
   "mimetype": "text/x-python",
   "name": "python",
   "nbconvert_exporter": "python",
   "pygments_lexer": "ipython3",
   "version": "3.7.4"
  }
 },
 "nbformat": 4,
 "nbformat_minor": 2
}
